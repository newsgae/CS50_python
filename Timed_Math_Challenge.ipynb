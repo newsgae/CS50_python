{
  "nbformat": 4,
  "nbformat_minor": 0,
  "metadata": {
    "colab": {
      "provenance": [],
      "authorship_tag": "ABX9TyOgN4Z2H74IoHND1/5usV3I",
      "include_colab_link": true
    },
    "kernelspec": {
      "name": "python3",
      "display_name": "Python 3"
    },
    "language_info": {
      "name": "python"
    }
  },
  "cells": [
    {
      "cell_type": "markdown",
      "metadata": {
        "id": "view-in-github",
        "colab_type": "text"
      },
      "source": [
        "<a href=\"https://colab.research.google.com/github/newsgae/CS50_python/blob/main/Timed_Math_Challenge.ipynb\" target=\"_parent\"><img src=\"https://colab.research.google.com/assets/colab-badge.svg\" alt=\"Open In Colab\"/></a>"
      ]
    },
    {
      "cell_type": "code",
      "execution_count": 46,
      "metadata": {
        "id": "VLZW-PAxEGZg"
      },
      "outputs": [],
      "source": [
        "import random\n",
        "import time"
      ]
    },
    {
      "cell_type": "code",
      "source": [
        "operators =['+', '-', '*']\n",
        "min_operand = 3\n",
        "max_operand = 12\n",
        "total_questions = 10\n",
        "num_wrong = 0"
      ],
      "metadata": {
        "id": "waN9RQtCELKk"
      },
      "execution_count": 49,
      "outputs": []
    },
    {
      "cell_type": "code",
      "source": [
        "def generate_question():\n",
        "  left = random.randint(min_operand, max_operand)\n",
        "  right = random.randint(min_operand, max_operand)\n",
        "  operator = random.choice(operators)\n",
        "\n",
        "  # create problem in math expression\n",
        "  expression :str= str(left) + ' ' + operator + ' ' + str(right)\n",
        "  # print(expression)\n",
        "\n",
        "  # eval: evaluate a string as if it is a number and return as an int\n",
        "  answer :str= str(eval(expression))\n",
        "  # print(answer)\n",
        "  # print(type(answer))\n",
        "\n",
        "  return expression, answer"
      ],
      "metadata": {
        "id": "8Fu1jkeHEa5j"
      },
      "execution_count": 50,
      "outputs": []
    },
    {
      "cell_type": "code",
      "source": [
        "exp, ans = generate_question()\n",
        "print(f\"{exp} = {ans}\")"
      ],
      "metadata": {
        "colab": {
          "base_uri": "https://localhost:8080/"
        },
        "id": "pgIhaiV2EuaT",
        "outputId": "b2b86387-6b2e-4f5e-df0d-a4c2ad5ec0b1"
      },
      "execution_count": 51,
      "outputs": [
        {
          "output_type": "stream",
          "name": "stdout",
          "text": [
            "3 * 9 = 27\n"
          ]
        }
      ]
    },
    {
      "cell_type": "code",
      "source": [
        "input('Press Enter to start.')\n",
        "print(20*'-')\n",
        "\n",
        "# start timer:\n",
        "start_time = time.time()\n",
        "\n",
        "for i in range(total_questions):\n",
        "  # generate question\n",
        "  expr, ansr = generate_question()\n",
        "  prompt = 'Problem ' + str(i+1) + ': ' + expr + ' = '\n",
        "\n",
        "  # keep asking for new problems\n",
        "  while True:\n",
        "      # print(f\"Problem {i+1}: {exp} =\")\n",
        "      user_response  = input(prompt)\n",
        "      if user_response == ansr:\n",
        "        break # if correct, move to next question\n",
        "\n",
        "      else:\n",
        "        num_wrong += 1\n",
        "\n",
        "# end timer\n",
        "end_time = time.time()\n",
        "total_time = round(end_time - start_time, 1)\n",
        "\n",
        "# accruacy\n",
        "accuracy = (total_questions-num_wrong)/total_questions*100\n",
        "\n",
        "print(20*'-')\n",
        "print(f'Completed! You did it in {total_time} seconds and your accuracy is {accuracy}%')\n"
      ],
      "metadata": {
        "colab": {
          "base_uri": "https://localhost:8080/"
        },
        "id": "gNeU2FF8E3Ei",
        "outputId": "741906e4-0456-46c0-9b43-c714510fa481"
      },
      "execution_count": 57,
      "outputs": [
        {
          "output_type": "stream",
          "name": "stdout",
          "text": [
            "Press Enter to start.\n",
            "--------------------\n",
            "Problem 1: 9 - 3 = \n",
            "Problem 1: 9 - 3 = 6\n",
            "Problem 2: 6 * 10 = 60\n",
            "Problem 3: 3 * 9 = 27\n",
            "Problem 4: 3 * 8 = 24\n",
            "Problem 5: 6 - 7 = -3\n",
            "Problem 5: 6 - 7 = -1\n",
            "Problem 6: 8 + 4 = 12\n",
            "Problem 7: 7 + 11 = 18\n",
            "Problem 8: 11 - 6 = 5\n",
            "Problem 9: 9 + 7 = 16\n",
            "Problem 10: 9 * 11 = 99\n",
            "--------------------\n",
            "Completed! You did it in 19.2 seconds and your accuracy is 80.0%\n"
          ]
        }
      ]
    },
    {
      "cell_type": "code",
      "source": [],
      "metadata": {
        "id": "jhr_fO_zIJ6q"
      },
      "execution_count": null,
      "outputs": []
    }
  ]
}