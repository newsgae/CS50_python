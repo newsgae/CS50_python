{
  "nbformat": 4,
  "nbformat_minor": 0,
  "metadata": {
    "colab": {
      "provenance": [],
      "authorship_tag": "ABX9TyP/TkxLepP16gwd8Dw1W0Tx",
      "include_colab_link": true
    },
    "kernelspec": {
      "name": "python3",
      "display_name": "Python 3"
    },
    "language_info": {
      "name": "python"
    }
  },
  "cells": [
    {
      "cell_type": "markdown",
      "metadata": {
        "id": "view-in-github",
        "colab_type": "text"
      },
      "source": [
        "<a href=\"https://colab.research.google.com/github/newsgae/CS50_python/blob/main/Timed_Math_Challenge.ipynb\" target=\"_parent\"><img src=\"https://colab.research.google.com/assets/colab-badge.svg\" alt=\"Open In Colab\"/></a>"
      ]
    },
    {
      "cell_type": "code",
      "execution_count": 46,
      "metadata": {
        "id": "VLZW-PAxEGZg"
      },
      "outputs": [],
      "source": [
        "import random\n",
        "import time"
      ]
    },
    {
      "cell_type": "code",
      "source": [
        "operators =['+', '-', '*', '**2']\n",
        "min_operand = 3\n",
        "max_operand = 12\n",
        "total_questions = 10\n"
      ],
      "metadata": {
        "id": "waN9RQtCELKk"
      },
      "execution_count": 49,
      "outputs": []
    },
    {
      "cell_type": "code",
      "source": [
        "def generate_question():\n",
        "  left = random.randint(min_operand, max_operand)\n",
        "  right = random.randint(min_operand, max_operand)\n",
        "  operator = random.choice(operators)\n",
        "\n",
        "  # avoid negtive value\n",
        "  if left < right and operator == '-':\n",
        "     left, right = right, left\n",
        "\n",
        "  # create problem in math expression\n",
        "  expression :str= str(left) + ' ' + operator + ' ' + str(right)\n",
        "  # print(expression)\n",
        "\n",
        "  # eval: evaluate a string as if it is a number and return as an int\n",
        "  answer :str= str(eval(expression))\n",
        "  # print(answer)\n",
        "  # print(type(answer))\n",
        "\n",
        "  return expression, answer"
      ],
      "metadata": {
        "id": "8Fu1jkeHEa5j"
      },
      "execution_count": 59,
      "outputs": []
    },
    {
      "cell_type": "code",
      "source": [
        "exp, ans = generate_question()\n",
        "print(f\"{exp} = {ans}\")"
      ],
      "metadata": {
        "colab": {
          "base_uri": "https://localhost:8080/"
        },
        "id": "pgIhaiV2EuaT",
        "outputId": "24efcc42-5c18-4038-e5a3-76db0b79ecd8"
      },
      "execution_count": 63,
      "outputs": [
        {
          "output_type": "stream",
          "name": "stdout",
          "text": [
            "6 - 4 = 2\n"
          ]
        }
      ]
    },
    {
      "cell_type": "code",
      "source": [
        "input('Press Enter to start.')\n",
        "print(20*'-')\n",
        "\n",
        "# reset value\n",
        "num_wrong = 0\n",
        "\n",
        "# start timer:\n",
        "start_time = time.time()\n",
        "\n",
        "for i in range(total_questions):\n",
        "  # generate question\n",
        "  expr, ansr = generate_question()\n",
        "  prompt = 'Problem ' + str(i+1) + ': ' + expr + ' = '\n",
        "\n",
        "  # keep asking for new problems\n",
        "  while True:\n",
        "      # print(f\"Problem {i+1}: {exp} =\")\n",
        "      user_response  = input(prompt)\n",
        "      if user_response == ansr:\n",
        "        break # if correct, move to next question\n",
        "\n",
        "      else:\n",
        "        num_wrong += 1\n",
        "\n",
        "# end timer\n",
        "end_time = time.time()\n",
        "total_time = round(end_time - start_time, 1)\n",
        "\n",
        "# accruacy\n",
        "accuracy = (total_questions-num_wrong)/total_questions*100\n",
        "\n",
        "print(20*'-')\n",
        "print(f'Completed! You did it in {total_time} seconds and your accuracy is {accuracy}%')\n"
      ],
      "metadata": {
        "colab": {
          "base_uri": "https://localhost:8080/"
        },
        "id": "gNeU2FF8E3Ei",
        "outputId": "9e46c66c-2172-4232-dfac-43421c05d76a"
      },
      "execution_count": 64,
      "outputs": [
        {
          "output_type": "stream",
          "name": "stdout",
          "text": [
            "Press Enter to start.\n",
            "--------------------\n",
            "Problem 1: 11 * 8 = 88\n",
            "Problem 2: 11 * 6 = 66\n",
            "Problem 3: 6 - 4 = 2\n",
            "Problem 4: 12 * 5 = 60\n",
            "Problem 5: 8 - 7 = 1\n",
            "Problem 6: 12 - 11 = 1\n",
            "Problem 7: 6 * 11 = 66\n",
            "Problem 8: 12 * 7 = 84\n",
            "Problem 9: 4 + 3 = 7\n",
            "Problem 10: 12 - 6 = 6\n",
            "--------------------\n",
            "Completed! You did it in 18.2 seconds and your accuracy is 80.0%\n"
          ]
        }
      ]
    },
    {
      "cell_type": "code",
      "source": [],
      "metadata": {
        "id": "jhr_fO_zIJ6q"
      },
      "execution_count": null,
      "outputs": []
    }
  ]
}